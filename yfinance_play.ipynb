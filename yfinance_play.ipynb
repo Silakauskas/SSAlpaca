{
 "cells": [
  {
   "cell_type": "code",
   "execution_count": 1,
   "id": "0e8e4494-df84-4336-9133-7df650f6d336",
   "metadata": {},
   "outputs": [],
   "source": [
    "import yfinance as yf\n",
    "msft = yf.Ticker(\"MSFT\")"
   ]
  },
  {
   "cell_type": "code",
   "execution_count": 2,
   "id": "99f072f3-14fe-4a13-a771-235168d0bc97",
   "metadata": {},
   "outputs": [],
   "source": [
    "# get stock info\n",
    "# msft.info"
   ]
  },
  {
   "cell_type": "code",
   "execution_count": 3,
   "id": "9e41214d-0cc9-4f80-b057-14cadad876c7",
   "metadata": {},
   "outputs": [
    {
     "data": {
      "text/plain": [
       "{'targetLowPrice': 306.55,\n",
       " 'targetMeanPrice': 370.36,\n",
       " 'targetMedianPrice': 370,\n",
       " 'numberOfAnalystOpinions': 45,\n",
       " 'recommendationKey': 'buy',\n",
       " 'currentPrice': 282.08,\n",
       " 'shortRatio': 1.15,\n",
       " 'twoHundredDayAverage': 304.9108,\n",
       " 'fiftyDayAverage': 297.1478,\n",
       " 'fiftyTwoWeekHigh': 349.67,\n",
       " 'fiftyTwoWeekLow': 238.07}"
      ]
     },
     "execution_count": 3,
     "metadata": {},
     "output_type": "execute_result"
    }
   ],
   "source": [
    "info_keys = ['targetLowPrice','targetMeanPrice','targetMedianPrice','numberOfAnalystOpinions','recommendationKey','currentPrice','shortRatio','twoHundredDayAverage','fiftyDayAverage','fiftyTwoWeekHigh','fiftyTwoWeekLow']\n",
    "filtered_info = { infoKey: msft.info[infoKey] for infoKey in info_keys }\n",
    "filtered_info"
   ]
  },
  {
   "cell_type": "code",
   "execution_count": 6,
   "id": "ef3d46b4-b689-4f9d-b07e-8ed1a9d2af9f",
   "metadata": {},
   "outputs": [
    {
     "data": {
      "text/html": [
       "<div>\n",
       "<style scoped>\n",
       "    .dataframe tbody tr th:only-of-type {\n",
       "        vertical-align: middle;\n",
       "    }\n",
       "\n",
       "    .dataframe tbody tr th {\n",
       "        vertical-align: top;\n",
       "    }\n",
       "\n",
       "    .dataframe thead th {\n",
       "        text-align: right;\n",
       "    }\n",
       "</style>\n",
       "<table border=\"1\" class=\"dataframe\">\n",
       "  <thead>\n",
       "    <tr style=\"text-align: right;\">\n",
       "      <th></th>\n",
       "      <th>Firm</th>\n",
       "      <th>To Grade</th>\n",
       "      <th>From Grade</th>\n",
       "      <th>Action</th>\n",
       "    </tr>\n",
       "    <tr>\n",
       "      <th>Date</th>\n",
       "      <th></th>\n",
       "      <th></th>\n",
       "      <th></th>\n",
       "      <th></th>\n",
       "    </tr>\n",
       "  </thead>\n",
       "  <tbody>\n",
       "    <tr>\n",
       "      <th>2021-10-28 14:55:44</th>\n",
       "      <td>Citigroup</td>\n",
       "      <td>Buy</td>\n",
       "      <td></td>\n",
       "      <td>main</td>\n",
       "    </tr>\n",
       "    <tr>\n",
       "      <th>2021-11-02 09:45:19</th>\n",
       "      <td>Deutsche Bank</td>\n",
       "      <td>Buy</td>\n",
       "      <td></td>\n",
       "      <td>init</td>\n",
       "    </tr>\n",
       "    <tr>\n",
       "      <th>2021-12-22 10:02:34</th>\n",
       "      <td>SMBC Nikko</td>\n",
       "      <td>Outperform</td>\n",
       "      <td></td>\n",
       "      <td>init</td>\n",
       "    </tr>\n",
       "    <tr>\n",
       "      <th>2022-01-03 20:23:48</th>\n",
       "      <td>Citigroup</td>\n",
       "      <td>Buy</td>\n",
       "      <td></td>\n",
       "      <td>main</td>\n",
       "    </tr>\n",
       "    <tr>\n",
       "      <th>2022-01-03 20:23:49</th>\n",
       "      <td>Keybanc</td>\n",
       "      <td>Overweight</td>\n",
       "      <td></td>\n",
       "      <td>main</td>\n",
       "    </tr>\n",
       "    <tr>\n",
       "      <th>2022-01-26 14:06:23</th>\n",
       "      <td>BMO Capital</td>\n",
       "      <td>Outperform</td>\n",
       "      <td></td>\n",
       "      <td>main</td>\n",
       "    </tr>\n",
       "    <tr>\n",
       "      <th>2022-01-26 14:42:40</th>\n",
       "      <td>Oppenheimer</td>\n",
       "      <td>Outperform</td>\n",
       "      <td></td>\n",
       "      <td>main</td>\n",
       "    </tr>\n",
       "    <tr>\n",
       "      <th>2022-01-26 15:03:00</th>\n",
       "      <td>Morgan Stanley</td>\n",
       "      <td>Overweight</td>\n",
       "      <td></td>\n",
       "      <td>main</td>\n",
       "    </tr>\n",
       "    <tr>\n",
       "      <th>2022-01-26 15:06:01</th>\n",
       "      <td>Citigroup</td>\n",
       "      <td>Buy</td>\n",
       "      <td></td>\n",
       "      <td>main</td>\n",
       "    </tr>\n",
       "    <tr>\n",
       "      <th>2022-02-04 16:31:41</th>\n",
       "      <td>Tigress Financial</td>\n",
       "      <td>Buy</td>\n",
       "      <td></td>\n",
       "      <td>main</td>\n",
       "    </tr>\n",
       "  </tbody>\n",
       "</table>\n",
       "</div>"
      ],
      "text/plain": [
       "                                  Firm    To Grade From Grade Action\n",
       "Date                                                                \n",
       "2021-10-28 14:55:44          Citigroup         Buy              main\n",
       "2021-11-02 09:45:19      Deutsche Bank         Buy              init\n",
       "2021-12-22 10:02:34         SMBC Nikko  Outperform              init\n",
       "2022-01-03 20:23:48          Citigroup         Buy              main\n",
       "2022-01-03 20:23:49            Keybanc  Overweight              main\n",
       "2022-01-26 14:06:23        BMO Capital  Outperform              main\n",
       "2022-01-26 14:42:40        Oppenheimer  Outperform              main\n",
       "2022-01-26 15:03:00     Morgan Stanley  Overweight              main\n",
       "2022-01-26 15:06:01          Citigroup         Buy              main\n",
       "2022-02-04 16:31:41  Tigress Financial         Buy              main"
      ]
     },
     "execution_count": 6,
     "metadata": {},
     "output_type": "execute_result"
    }
   ],
   "source": [
    "msft.recommendations.tail(10)"
   ]
  },
  {
   "cell_type": "code",
   "execution_count": 17,
   "id": "60da44b4-c97a-409f-af27-971373778643",
   "metadata": {},
   "outputs": [
    {
     "data": {
      "text/plain": [
       "305.640243902439"
      ]
     },
     "execution_count": 17,
     "metadata": {},
     "output_type": "execute_result"
    }
   ],
   "source": [
    "(msft.option_chain('2022-04-14').calls['strike']).mean()"
   ]
  },
  {
   "cell_type": "code",
   "execution_count": null,
   "id": "7fe40de3-675f-4ac0-90da-aa89d2d7e491",
   "metadata": {},
   "outputs": [],
   "source": []
  },
  {
   "cell_type": "code",
   "execution_count": null,
   "id": "f14a30a2-afb8-4917-843d-c8cfa7081995",
   "metadata": {},
   "outputs": [],
   "source": []
  },
  {
   "cell_type": "code",
   "execution_count": null,
   "id": "5696b2d9-3a9c-4839-a21e-2477dd51e845",
   "metadata": {},
   "outputs": [],
   "source": []
  },
  {
   "cell_type": "code",
   "execution_count": null,
   "id": "16e2775f-919c-429a-9be6-7829dc6eb2de",
   "metadata": {},
   "outputs": [],
   "source": []
  },
  {
   "cell_type": "code",
   "execution_count": null,
   "id": "e9d818fb-e65a-4ec3-98fd-d993af1e64d4",
   "metadata": {},
   "outputs": [],
   "source": []
  },
  {
   "cell_type": "code",
   "execution_count": null,
   "id": "4373b1ed-789f-4b8e-b797-1ccfb5c01149",
   "metadata": {},
   "outputs": [],
   "source": []
  },
  {
   "cell_type": "code",
   "execution_count": null,
   "id": "d9fdccef-9b8b-4d06-9bb9-4861a9bdbf6d",
   "metadata": {},
   "outputs": [],
   "source": []
  },
  {
   "cell_type": "code",
   "execution_count": null,
   "id": "1d399adc-b85b-470d-8112-fd56be377f06",
   "metadata": {},
   "outputs": [],
   "source": []
  },
  {
   "cell_type": "code",
   "execution_count": null,
   "id": "1940c9d7-ac91-4236-87c2-76ce0d6644dc",
   "metadata": {},
   "outputs": [],
   "source": []
  },
  {
   "cell_type": "code",
   "execution_count": null,
   "id": "ab89ecdd-2e49-458d-b55a-ddcd9253ea05",
   "metadata": {},
   "outputs": [],
   "source": []
  },
  {
   "cell_type": "code",
   "execution_count": null,
   "id": "cf54c9ae-e5f1-4eb4-a614-2005768c20ad",
   "metadata": {},
   "outputs": [],
   "source": []
  },
  {
   "cell_type": "code",
   "execution_count": null,
   "id": "89d3abcb-5ad7-494c-add1-8801604f3965",
   "metadata": {},
   "outputs": [],
   "source": []
  },
  {
   "cell_type": "code",
   "execution_count": null,
   "id": "58445d85-bc3f-47d0-8ac4-f585e03c7c9b",
   "metadata": {},
   "outputs": [],
   "source": []
  },
  {
   "cell_type": "code",
   "execution_count": null,
   "id": "d551400c-54ae-4f82-9139-6c19aefa498f",
   "metadata": {},
   "outputs": [],
   "source": []
  },
  {
   "cell_type": "code",
   "execution_count": null,
   "id": "17d1ea5c-f183-414a-afb3-f2d4d750c316",
   "metadata": {},
   "outputs": [],
   "source": []
  },
  {
   "cell_type": "code",
   "execution_count": null,
   "id": "e9479c23-16eb-4bbb-acb2-657a850468d8",
   "metadata": {},
   "outputs": [],
   "source": []
  },
  {
   "cell_type": "code",
   "execution_count": null,
   "id": "70dceef8-36ff-4442-a762-3c96fef1e0dc",
   "metadata": {},
   "outputs": [],
   "source": []
  },
  {
   "cell_type": "code",
   "execution_count": null,
   "id": "2f500833-1fd4-4205-a5af-5f4e983c7f07",
   "metadata": {},
   "outputs": [],
   "source": []
  }
 ],
 "metadata": {
  "kernelspec": {
   "display_name": "Python 3 (ipykernel)",
   "language": "python",
   "name": "python3"
  },
  "language_info": {
   "codemirror_mode": {
    "name": "ipython",
    "version": 3
   },
   "file_extension": ".py",
   "mimetype": "text/x-python",
   "name": "python",
   "nbconvert_exporter": "python",
   "pygments_lexer": "ipython3",
   "version": "3.10.4"
  }
 },
 "nbformat": 4,
 "nbformat_minor": 5
}
